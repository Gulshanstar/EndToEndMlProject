{
 "cells": [
  {
   "cell_type": "code",
   "execution_count": 13,
   "metadata": {},
   "outputs": [
    {
     "name": "stdout",
     "output_type": "stream",
     "text": [
      "['name', 'Age', 'Email']\n"
     ]
    }
   ],
   "source": [
    "dict = {\n",
    "    'name': 'Gulshan',\n",
    "    'Age': 34,\n",
    "    'Email' : 'gulshanmundri64@gmail.com'\n",
    "}\n",
    "\n",
    "params = {\n",
    "    'name' : ['g','f','g'],\n",
    "    'Age' :[56,78],\n",
    "    'Email' : [34,56]\n",
    "}\n",
    "print(list(dict))"
   ]
  },
  {
   "cell_type": "code",
   "execution_count": 14,
   "metadata": {},
   "outputs": [
    {
     "name": "stdout",
     "output_type": "stream",
     "text": [
      "name\n",
      "['g', 'f', 'g']\n",
      "Age\n",
      "[56, 78]\n",
      "Email\n",
      "[34, 56]\n",
      "{'name': 5, 'Age': 5, 'Email': 5}\n"
     ]
    }
   ],
   "source": [
    "report = {}\n",
    "for i in range(len(list(dict))):\n",
    "    print(list(dict.keys())[i])\n",
    "    print(params[list(dict.keys())[i]])\n",
    "    report[list(dict.keys())[i]] = 5\n",
    "print(report)\n"
   ]
  },
  {
   "cell_type": "code",
   "execution_count": null,
   "metadata": {},
   "outputs": [],
   "source": []
  },
  {
   "cell_type": "code",
   "execution_count": null,
   "metadata": {},
   "outputs": [],
   "source": []
  }
 ],
 "metadata": {
  "kernelspec": {
   "display_name": "Python 3",
   "language": "python",
   "name": "python3"
  },
  "language_info": {
   "codemirror_mode": {
    "name": "ipython",
    "version": 3
   },
   "file_extension": ".py",
   "mimetype": "text/x-python",
   "name": "python",
   "nbconvert_exporter": "python",
   "pygments_lexer": "ipython3",
   "version": "3.12.0"
  }
 },
 "nbformat": 4,
 "nbformat_minor": 2
}
